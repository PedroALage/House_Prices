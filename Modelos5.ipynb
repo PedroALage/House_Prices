{
 "cells": [
  {
   "cell_type": "markdown",
   "id": "0e718267",
   "metadata": {},
   "source": [
    "# House Prices - Advanced Regression Techniques\n",
    "\n",
    "- Utilizaando os [dados disponíveis no Kaggle](https://www.kaggle.com/competitions/house-prices-advanced-regression-techniques/overview)\n",
    "    - Dataset de competição\n",
    "    - A avaliação será através do erro quadrático médio"
   ]
  },
  {
   "cell_type": "markdown",
   "id": "e3c09457",
   "metadata": {},
   "source": [
    "## Modelos 5 - Parâmetros\n",
    "- O objetivo é estimar os melhores parâmetros para os algoritmos selecionados.\n",
    "- Tópicos:\n",
    "    - [Arquivo 3_1](#Arquivo3_1)\n",
    "    - [Arquivo 3_2](#Arquivo3_2)\n",
    "    - [Algoritmos](#Algoritmos)"
   ]
  },
  {
   "cell_type": "markdown",
   "id": "27c056c9",
   "metadata": {},
   "source": [
    "<a id='Arquivo3_1'></a>\n",
    "### Arquivo 3_1"
   ]
  },
  {
   "cell_type": "code",
   "execution_count": 1,
   "id": "4598f164",
   "metadata": {},
   "outputs": [],
   "source": [
    "# Importando o pandas\n",
    "import pandas as pd"
   ]
  },
  {
   "cell_type": "code",
   "execution_count": 2,
   "id": "f7184f6d",
   "metadata": {},
   "outputs": [],
   "source": [
    "# Importando as bases\n",
    "treino = pd.read_csv('train3_1.csv')\n",
    "teste = pd.read_csv('test3_1.csv')"
   ]
  },
  {
   "cell_type": "code",
   "execution_count": 3,
   "id": "563d7998",
   "metadata": {},
   "outputs": [
    {
     "data": {
      "text/plain": [
       "(1460, 85)"
      ]
     },
     "execution_count": 3,
     "metadata": {},
     "output_type": "execute_result"
    }
   ],
   "source": [
    "# Verificando o formato da base\n",
    "treino.shape"
   ]
  },
  {
   "cell_type": "code",
   "execution_count": 4,
   "id": "a90f51eb",
   "metadata": {},
   "outputs": [
    {
     "data": {
      "text/plain": [
       "int64      37\n",
       "object     35\n",
       "float64    13\n",
       "Name: count, dtype: int64"
      ]
     },
     "execution_count": 4,
     "metadata": {},
     "output_type": "execute_result"
    }
   ],
   "source": [
    "# Verificando o tipo de dados nas colunas\n",
    "treino.dtypes.value_counts()"
   ]
  },
  {
   "cell_type": "code",
   "execution_count": 5,
   "id": "cba63709",
   "metadata": {},
   "outputs": [
    {
     "data": {
      "text/plain": [
       "object     35\n",
       "int64      29\n",
       "float64    20\n",
       "Name: count, dtype: int64"
      ]
     },
     "execution_count": 5,
     "metadata": {},
     "output_type": "execute_result"
    }
   ],
   "source": [
    "# Verificando o tipo de dados nas colunas\n",
    "teste.dtypes.value_counts()"
   ]
  },
  {
   "cell_type": "code",
   "execution_count": 6,
   "id": "642149fd",
   "metadata": {},
   "outputs": [
    {
     "data": {
      "text/plain": [
       "Index(['Id', 'MSSubClass', 'LotFrontage', 'LotArea', 'OverallQual',\n",
       "       'OverallCond', 'YearBuilt', 'YearRemodAdd', 'MasVnrArea', 'BsmtFinSF1',\n",
       "       'BsmtFinSF2', 'BsmtUnfSF', 'TotalBsmtSF', 'CentralAir', '1stFlrSF',\n",
       "       '2ndFlrSF', 'LowQualFinSF', 'GrLivArea', 'BsmtFullBath', 'BsmtHalfBath',\n",
       "       'FullBath', 'HalfBath', 'BedroomAbvGr', 'KitchenAbvGr', 'TotRmsAbvGrd',\n",
       "       'Fireplaces', 'GarageFinish', 'GarageCars', 'GarageQual', 'PavedDrive',\n",
       "       'WoodDeckSF', 'OpenPorchSF', 'EnclosedPorch', '3SsnPorch',\n",
       "       'ScreenPorch', 'PoolArea', 'MiscVal', 'MoSold', 'YrSold',\n",
       "       'MSZoning_C (all)', 'MSZoning_FV', 'MSZoning_RH', 'MSZoning_RL',\n",
       "       'MSZoning_RM', 'GarageType_-1', 'GarageType_Attchd',\n",
       "       'GarageType_BuiltIn', 'GarageType_Detchd',\n",
       "       'GarageType_infrequent_sklearn'],\n",
       "      dtype='object')"
      ]
     },
     "execution_count": 6,
     "metadata": {},
     "output_type": "execute_result"
    }
   ],
   "source": [
    "# Selecionando apenas as colunas numéricas\n",
    "cols_nr = treino.columns[treino.dtypes != 'object']\n",
    "cols_nr[cols_nr != 'SalePrice']"
   ]
  },
  {
   "cell_type": "code",
   "execution_count": 7,
   "id": "1258693b",
   "metadata": {},
   "outputs": [
    {
     "data": {
      "text/plain": [
       "(1460, 50)"
      ]
     },
     "execution_count": 7,
     "metadata": {},
     "output_type": "execute_result"
    }
   ],
   "source": [
    "# Criando uma nova base com esses valores\n",
    "treino = treino.loc[:,cols_nr]\n",
    "treino.shape"
   ]
  },
  {
   "cell_type": "code",
   "execution_count": 8,
   "id": "58386078",
   "metadata": {},
   "outputs": [
    {
     "data": {
      "text/plain": [
       "(1459, 49)"
      ]
     },
     "execution_count": 8,
     "metadata": {},
     "output_type": "execute_result"
    }
   ],
   "source": [
    "# Mantendo também apenas as colunas numéricas para a base de teste\n",
    "teste = teste.loc[:,cols_nr[cols_nr != 'SalePrice']]\n",
    "teste.shape"
   ]
  },
  {
   "cell_type": "markdown",
   "id": "c26fc247",
   "metadata": {},
   "source": [
    "<a id='Arquivo3_2'></a>\n",
    "### Arquivo 3_2"
   ]
  },
  {
   "cell_type": "code",
   "execution_count": 46,
   "id": "26639e4a",
   "metadata": {},
   "outputs": [],
   "source": [
    "# Importando as bases\n",
    "treino = pd.read_csv('train3_2.csv')\n",
    "teste = pd.read_csv('test3_2.csv')"
   ]
  },
  {
   "cell_type": "code",
   "execution_count": 47,
   "id": "e76bbd54",
   "metadata": {},
   "outputs": [
    {
     "data": {
      "text/plain": [
       "(1460, 146)"
      ]
     },
     "execution_count": 47,
     "metadata": {},
     "output_type": "execute_result"
    }
   ],
   "source": [
    "# Verificando o formato da base\n",
    "treino.shape"
   ]
  },
  {
   "cell_type": "code",
   "execution_count": 48,
   "id": "ac1a2f6c",
   "metadata": {},
   "outputs": [
    {
     "data": {
      "text/plain": [
       "(1459, 145)"
      ]
     },
     "execution_count": 48,
     "metadata": {},
     "output_type": "execute_result"
    }
   ],
   "source": [
    "# Verificando o formato da base\n",
    "teste.shape"
   ]
  },
  {
   "cell_type": "code",
   "execution_count": 49,
   "id": "113a3118",
   "metadata": {},
   "outputs": [
    {
     "data": {
      "text/plain": [
       "int64      133\n",
       "float64     13\n",
       "Name: count, dtype: int64"
      ]
     },
     "execution_count": 49,
     "metadata": {},
     "output_type": "execute_result"
    }
   ],
   "source": [
    "# Verificando o tipo de dados nas colunas\n",
    "treino.dtypes.value_counts()"
   ]
  },
  {
   "cell_type": "code",
   "execution_count": 50,
   "id": "00325602",
   "metadata": {},
   "outputs": [
    {
     "data": {
      "text/plain": [
       "int64      125\n",
       "float64     20\n",
       "Name: count, dtype: int64"
      ]
     },
     "execution_count": 50,
     "metadata": {},
     "output_type": "execute_result"
    }
   ],
   "source": [
    "# Verificando o tipo de dados nas colunas\n",
    "teste.dtypes.value_counts()"
   ]
  },
  {
   "cell_type": "markdown",
   "id": "80e7c8b2",
   "metadata": {},
   "source": [
    "<a id='Algoritmos'></a>\n",
    "## Algoritmos\n",
    "- Separando em treino e teste:\n",
    "    - https://scikit-learn.org/stable/modules/generated/sklearn.model_selection.train_test_split.html\n",
    "    \n",
    "- Utilizando **grid_search** para estimar os melhores parâmetros:\n",
    "    - https://scikit-learn.org/stable/modules/generated/sklearn.model_selection.GridSearchCV.html\n",
    "\n",
    "- Algoritmos:\n",
    "    - **RandomForestRegressor**:\n",
    "        - https://scikit-learn.org/stable/modules/generated/sklearn.ensemble.RandomForestRegressor.html#sklearn.ensemble.RandomForestRegressor\n",
    "    - **XGBoost**:\n",
    "        - https://xgboost.readthedocs.io/en/stable/index.html"
   ]
  },
  {
   "cell_type": "code",
   "execution_count": 51,
   "id": "59256e2e",
   "metadata": {},
   "outputs": [],
   "source": [
    "# Selecionando X e y\n",
    "X = treino.drop('SalePrice',axis=1)\n",
    "y = treino.SalePrice"
   ]
  },
  {
   "cell_type": "code",
   "execution_count": 52,
   "id": "92def5ac",
   "metadata": {},
   "outputs": [],
   "source": [
    "# Importando o train_test_split\n",
    "from sklearn.model_selection import train_test_split"
   ]
  },
  {
   "cell_type": "code",
   "execution_count": 53,
   "id": "acc4c8b3",
   "metadata": {},
   "outputs": [],
   "source": [
    "# Separando essa base em treino e teste\n",
    "X_train, X_test, y_train, y_test = train_test_split(X, y, test_size=0.33, random_state=42)"
   ]
  },
  {
   "cell_type": "markdown",
   "id": "21a2e6f7",
   "metadata": {},
   "source": [
    "### Random Forest Regressor"
   ]
  },
  {
   "cell_type": "code",
   "execution_count": 54,
   "id": "012f6c1f",
   "metadata": {},
   "outputs": [],
   "source": [
    "# Importando\n",
    "from sklearn.ensemble import RandomForestRegressor"
   ]
  },
  {
   "cell_type": "code",
   "execution_count": 55,
   "id": "ad009301",
   "metadata": {},
   "outputs": [],
   "source": [
    "# Criando o classificador\n",
    "reg_rf = RandomForestRegressor(random_state=42)"
   ]
  },
  {
   "cell_type": "code",
   "execution_count": 56,
   "id": "6bd30af8",
   "metadata": {},
   "outputs": [],
   "source": [
    "# Definindo os parâmetros\n",
    "parametros_rf = {\n",
    "    'n_estimators': [100,200,500],\n",
    "    'criterion': ['squared_error','poisson'],\n",
    "    'max_depth': [10,20,30,40,50],\n",
    "    'max_features': ['auto', 'sqrt']\n",
    "}"
   ]
  },
  {
   "cell_type": "markdown",
   "id": "9dcc3ff8",
   "metadata": {},
   "source": [
    "### XGBoost"
   ]
  },
  {
   "cell_type": "code",
   "execution_count": 57,
   "id": "e15140c1",
   "metadata": {},
   "outputs": [],
   "source": [
    "# Importando\n",
    "from xgboost import XGBRegressor"
   ]
  },
  {
   "cell_type": "code",
   "execution_count": 58,
   "id": "dcda505a",
   "metadata": {},
   "outputs": [],
   "source": [
    "# Criando o classificador\n",
    "reg_xgb = XGBRegressor(random_state=42)"
   ]
  },
  {
   "cell_type": "code",
   "execution_count": 59,
   "id": "63390f4a",
   "metadata": {},
   "outputs": [],
   "source": [
    "# Definindo os parâmetros\n",
    "parametros_xgb = {\n",
    "    'learning_rate': [0.3, 0.03, 0.1],\n",
    "    'max_depth': [10,20,30,40,50],\n",
    "    'n_estimators': [100, 500, 1000],\n",
    "    'colsample_bytree': [0.7, 1]\n",
    "}"
   ]
  },
  {
   "cell_type": "markdown",
   "id": "f4177eff",
   "metadata": {},
   "source": [
    "### Grid_Search"
   ]
  },
  {
   "cell_type": "code",
   "execution_count": 60,
   "id": "63ef7e67",
   "metadata": {},
   "outputs": [],
   "source": [
    "# Ignorando os avisos\n",
    "import warnings\n",
    "warnings.filterwarnings('ignore')"
   ]
  },
  {
   "cell_type": "code",
   "execution_count": 61,
   "id": "a3682366",
   "metadata": {},
   "outputs": [],
   "source": [
    "# Importando o GridSearchCV\n",
    "from sklearn.model_selection import GridSearchCV"
   ]
  },
  {
   "cell_type": "code",
   "execution_count": 62,
   "id": "3babe38d",
   "metadata": {},
   "outputs": [],
   "source": [
    "# Random Forest Regressor\n",
    "grid_search_rf = GridSearchCV(estimator=reg_rf, param_grid=parametros_rf, scoring='neg_mean_squared_error')\n",
    "grid_search_rf = grid_search_rf.fit(X_train, y_train)"
   ]
  },
  {
   "cell_type": "code",
   "execution_count": 63,
   "id": "92572fea",
   "metadata": {},
   "outputs": [],
   "source": [
    "# XGBoost\n",
    "grid_search_xgb = GridSearchCV(estimator=reg_xgb,param_grid=parametros_xgb,scoring='neg_mean_squared_error')\n",
    "grid_search_xgb = grid_search_xgb.fit(X_train,y_train)"
   ]
  },
  {
   "cell_type": "markdown",
   "id": "ebdfed21",
   "metadata": {},
   "source": [
    "- Verificando os melhores scores"
   ]
  },
  {
   "cell_type": "code",
   "execution_count": 64,
   "id": "06b64e3c",
   "metadata": {},
   "outputs": [
    {
     "data": {
      "text/plain": [
       "900454576.5656376"
      ]
     },
     "execution_count": 64,
     "metadata": {},
     "output_type": "execute_result"
    }
   ],
   "source": [
    "# Random Forest Regressor\n",
    "grid_search_rf.best_score_*(-1)"
   ]
  },
  {
   "cell_type": "code",
   "execution_count": 65,
   "id": "687f3d9b",
   "metadata": {},
   "outputs": [
    {
     "data": {
      "text/plain": [
       "1025221854.1828165"
      ]
     },
     "execution_count": 65,
     "metadata": {},
     "output_type": "execute_result"
    }
   ],
   "source": [
    "# XGBoost\n",
    "grid_search_xgb.best_score_*(-1)"
   ]
  },
  {
   "cell_type": "markdown",
   "id": "06230035",
   "metadata": {},
   "source": [
    "- Verificando os melhores parâmetros"
   ]
  },
  {
   "cell_type": "code",
   "execution_count": 66,
   "id": "48e5765a",
   "metadata": {},
   "outputs": [
    {
     "data": {
      "text/plain": [
       "{'criterion': 'squared_error',\n",
       " 'max_depth': 20,\n",
       " 'max_features': 'sqrt',\n",
       " 'n_estimators': 500}"
      ]
     },
     "execution_count": 66,
     "metadata": {},
     "output_type": "execute_result"
    }
   ],
   "source": [
    "# Random Forest Regressor\n",
    "grid_search_rf.best_params_"
   ]
  },
  {
   "cell_type": "code",
   "execution_count": 67,
   "id": "fa36ba9f",
   "metadata": {},
   "outputs": [
    {
     "data": {
      "text/plain": [
       "{'colsample_bytree': 0.7,\n",
       " 'learning_rate': 0.03,\n",
       " 'max_depth': 10,\n",
       " 'n_estimators': 1000}"
      ]
     },
     "execution_count": 67,
     "metadata": {},
     "output_type": "execute_result"
    }
   ],
   "source": [
    "# XGBoost\n",
    "grid_search_xgb.best_params_"
   ]
  },
  {
   "cell_type": "markdown",
   "id": "01e97ce7",
   "metadata": {},
   "source": [
    "- Selecionando o melhor estimados para os algoritmos"
   ]
  },
  {
   "cell_type": "code",
   "execution_count": 68,
   "id": "37552348",
   "metadata": {},
   "outputs": [],
   "source": [
    "# Random Forest\n",
    "reg_rf_best = grid_search_rf.best_estimator_"
   ]
  },
  {
   "cell_type": "code",
   "execution_count": 69,
   "id": "ca8fb9da",
   "metadata": {},
   "outputs": [],
   "source": [
    "# XGBoost\n",
    "reg_xgb_best = grid_search_xgb.best_estimator_"
   ]
  },
  {
   "cell_type": "markdown",
   "id": "5e7f9272",
   "metadata": {},
   "source": [
    "- Fazendo a previsão no X_test"
   ]
  },
  {
   "cell_type": "code",
   "execution_count": 70,
   "id": "dea2aa26",
   "metadata": {},
   "outputs": [],
   "source": [
    "# Random Forest\n",
    "y_pred_rf = reg_rf_best.predict(X_test)"
   ]
  },
  {
   "cell_type": "code",
   "execution_count": 71,
   "id": "485590b2",
   "metadata": {},
   "outputs": [],
   "source": [
    "# XGBoost\n",
    "y_pred_xgb = reg_xgb_best.predict(X_test)"
   ]
  },
  {
   "cell_type": "markdown",
   "id": "1ef2910c",
   "metadata": {},
   "source": [
    "## Avaliando os resultados\n",
    "- Erro médio absoluto:\n",
    "    - https://scikit-learn.org/stable/modules/generated/sklearn.metrics.mean_absolute_error.html\n",
    "- Erro quadrático médio:\n",
    "    - https://scikit-learn.org/stable/modules/generated/sklearn.metrics.mean_squared_error.html"
   ]
  },
  {
   "cell_type": "code",
   "execution_count": 72,
   "id": "7712299c",
   "metadata": {},
   "outputs": [],
   "source": [
    "# Importando o erro médio absoluto e o erro quadrático médio\n",
    "from sklearn.metrics import mean_absolute_error\n",
    "from sklearn.metrics import mean_squared_error"
   ]
  },
  {
   "cell_type": "code",
   "execution_count": 73,
   "id": "0a0b3a9c",
   "metadata": {},
   "outputs": [
    {
     "name": "stdout",
     "output_type": "stream",
     "text": [
      "Erro absoluto: 17270.388961071792\n",
      "Erro quadrático: 1091036963.4890406\n"
     ]
    }
   ],
   "source": [
    "# Erro regressão linear\n",
    "print(f'Erro absoluto: {mean_absolute_error(y_test, y_pred_rf)}')\n",
    "print(f'Erro quadrático: {mean_squared_error(y_test, y_pred_rf)}')"
   ]
  },
  {
   "cell_type": "code",
   "execution_count": 74,
   "id": "ade6db35",
   "metadata": {},
   "outputs": [
    {
     "name": "stdout",
     "output_type": "stream",
     "text": [
      "Erro absoluto: 17187.783032935684\n",
      "Erro quadrático: 1109748651.387586\n"
     ]
    }
   ],
   "source": [
    "# Erro Random Forest Regressor\n",
    "print(f'Erro absoluto: {mean_absolute_error(y_test, y_pred_xgb)}')\n",
    "print(f'Erro quadrático: {mean_squared_error(y_test, y_pred_xgb)}')"
   ]
  },
  {
   "cell_type": "markdown",
   "id": "26f01509",
   "metadata": {},
   "source": [
    "- **Visualizando graficamente**"
   ]
  },
  {
   "cell_type": "code",
   "execution_count": 75,
   "id": "5504bafd",
   "metadata": {},
   "outputs": [],
   "source": [
    "# Importando o matplotlib\n",
    "import matplotlib.pyplot as plt"
   ]
  },
  {
   "cell_type": "code",
   "execution_count": 76,
   "id": "88ad7e7b",
   "metadata": {
    "scrolled": true
   },
   "outputs": [
    {
     "data": {
      "image/png": "[encoded data removed]",
      "text/plain": [
       "<Figure size 1500x500 with 2 Axes>"
      ]
     },
     "metadata": {},
     "output_type": "display_data"
    }
   ],
   "source": [
    "# Criando esse gráfico\n",
    "fig, ax = plt.subplots(ncols=2,figsize=(15,5))\n",
    "\n",
    "ax[0].scatter(y_test/100000, y_pred_rf/100000)\n",
    "ax[0].plot([0,8],[0,8],'--r')\n",
    "\n",
    "ax[1].scatter(y_test/100000, y_pred_xgb/100000)\n",
    "ax[1].plot([0,8],[0,8],'--r')\n",
    "\n",
    "ax[0].set(xlim=(0, 8),ylim=(0, 8))\n",
    "ax[0].set_xlabel('y_test (x100.000)')\n",
    "ax[0].set_ylabel('y_pred (x100.000)')\n",
    "ax[0].set_title('Random Forest')\n",
    "\n",
    "ax[1].set(xlim=(0, 8),ylim=(0, 8))\n",
    "ax[1].set_xlabel('y_test (x100.000)')\n",
    "ax[1].set_ylabel('y_pred (x100.000)')\n",
    "ax[1].set_title('XGBoost')\n",
    "\n",
    "plt.show()"
   ]
  },
  {
   "cell_type": "markdown",
   "id": "bcc35a35",
   "metadata": {},
   "source": [
    "## Construindo Previsão\n",
    "- Utilizando o **Random Forest**"
   ]
  },
  {
   "cell_type": "code",
   "execution_count": 77,
   "id": "271ff9af",
   "metadata": {},
   "outputs": [],
   "source": [
    "# Fazer a previsão\n",
    "y_pred = reg_rf_best.predict(teste)"
   ]
  },
  {
   "cell_type": "code",
   "execution_count": 78,
   "id": "8268786a",
   "metadata": {},
   "outputs": [],
   "source": [
    "# Adicionando a coluna na base\n",
    "teste['SalePrice'] = y_pred"
   ]
  },
  {
   "cell_type": "code",
   "execution_count": 79,
   "id": "7bd0e1d2",
   "metadata": {},
   "outputs": [],
   "source": [
    "# Extraindo as colunas Id e SalePrice\n",
    "resultado = teste[['Id','SalePrice']]"
   ]
  },
  {
   "cell_type": "code",
   "execution_count": 80,
   "id": "a087ae9a",
   "metadata": {},
   "outputs": [],
   "source": [
    "# Exportando para um csv\n",
    "# resultado.to_csv('resultado5_1.csv', index=False)\n",
    "\n",
    "resultado.to_csv('resultado5_2.csv', index=False)"
   ]
  },
  {
   "cell_type": "markdown",
   "id": "26236bd0",
   "metadata": {},
   "source": [
    "- Tentando fazer a previsão com o XGBoost"
   ]
  },
  {
   "cell_type": "code",
   "execution_count": 81,
   "id": "f6fc750b",
   "metadata": {},
   "outputs": [],
   "source": [
    "# Retirando a coluna SalePrice\n",
    "teste = teste.drop('SalePrice',axis=1)"
   ]
  },
  {
   "cell_type": "code",
   "execution_count": 82,
   "id": "a95cfd6c",
   "metadata": {},
   "outputs": [],
   "source": [
    "# Fazer a previsão\n",
    "y_pred = reg_xgb_best.predict(teste)"
   ]
  },
  {
   "cell_type": "code",
   "execution_count": 83,
   "id": "7d2d3409",
   "metadata": {},
   "outputs": [],
   "source": [
    "# Adicionando a coluna na base\n",
    "teste['SalePrice'] = y_pred"
   ]
  },
  {
   "cell_type": "code",
   "execution_count": 84,
   "id": "c40a1018",
   "metadata": {},
   "outputs": [],
   "source": [
    "# Extraindo as colunas Id e SalePrice\n",
    "resultado = teste[['Id','SalePrice']]"
   ]
  },
  {
   "cell_type": "code",
   "execution_count": 85,
   "id": "c85e70aa",
   "metadata": {},
   "outputs": [],
   "source": [
    "# Exportando para um csv\n",
    "# resultado.to_csv('resultado5_11.csv', index=False)\n",
    "\n",
    "resultado.to_csv('resultado5_22.csv', index=False)"
   ]
  },
  {
   "cell_type": "markdown",
   "id": "910ec986",
   "metadata": {},
   "source": [
    "- **Resultado**\n",
    "<img src=\"pkgImagens/resultado5.png\" width=900>"
   ]
  },
  {
   "cell_type": "code",
   "execution_count": null,
   "id": "69b8f5ca",
   "metadata": {},
   "outputs": [],
   "source": []
  }
 ],
 "metadata": {
  "kernelspec": {
   "display_name": "Python 3 (ipykernel)",
   "language": "python",
   "name": "python3"
  },
  "language_info": {
   "codemirror_mode": {
    "name": "ipython",
    "version": 3
   },
   "file_extension": ".py",
   "mimetype": "text/x-python",
   "name": "python",
   "nbconvert_exporter": "python",
   "pygments_lexer": "ipython3",
   "version": "3.11.5"
  }
 },
 "nbformat": 4,
 "nbformat_minor": 5
}

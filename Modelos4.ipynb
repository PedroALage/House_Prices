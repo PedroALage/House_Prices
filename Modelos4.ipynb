{
 "cells": [
  {
   "cell_type": "markdown",
   "id": "0e718267",
   "metadata": {},
   "source": [
    "# House Prices - Advanced Regression Techniques\n",
    "\n",
    "- Utilizaando os [dados disponíveis no Kaggle](https://www.kaggle.com/competitions/house-prices-advanced-regression-techniques/overview)\n",
    "    - Dataset de competição\n",
    "    - A avaliação será através do erro quadrático médio"
   ]
  },
  {
   "cell_type": "markdown",
   "id": "e3c09457",
   "metadata": {},
   "source": [
    "## Modelos 4 - Novos modelos\n",
    "- O objetivo é aplicar algoritmos mais complexos e avaliar os resultados.\n",
    "- Tópicos:\n",
    "    - [Arquivo 3_1](#Arquivo3_1)\n",
    "    - [Arquivo 3_2](#Arquivo3_2)\n",
    "    - [Algoritmos](#Algoritmos)"
   ]
  },
  {
   "cell_type": "markdown",
   "id": "27c056c9",
   "metadata": {},
   "source": [
    "<a id='Arquivo3_1'></a>\n",
    "### Arquivo 3_1"
   ]
  },
  {
   "cell_type": "code",
   "execution_count": 1,
   "id": "4598f164",
   "metadata": {},
   "outputs": [],
   "source": [
    "# Importando o pandas\n",
    "import pandas as pd"
   ]
  },
  {
   "cell_type": "code",
   "execution_count": 2,
   "id": "f7184f6d",
   "metadata": {},
   "outputs": [],
   "source": [
    "# Importando as bases\n",
    "treino = pd.read_csv('train3_1.csv')\n",
    "teste = pd.read_csv('test3_1.csv')"
   ]
  },
  {
   "cell_type": "code",
   "execution_count": 3,
   "id": "563d7998",
   "metadata": {},
   "outputs": [
    {
     "data": {
      "text/plain": [
       "(1460, 85)"
      ]
     },
     "execution_count": 3,
     "metadata": {},
     "output_type": "execute_result"
    }
   ],
   "source": [
    "# Verificando o formato da base\n",
    "treino.shape"
   ]
  },
  {
   "cell_type": "code",
   "execution_count": 4,
   "id": "a90f51eb",
   "metadata": {},
   "outputs": [
    {
     "data": {
      "text/plain": [
       "int64      37\n",
       "object     35\n",
       "float64    13\n",
       "Name: count, dtype: int64"
      ]
     },
     "execution_count": 4,
     "metadata": {},
     "output_type": "execute_result"
    }
   ],
   "source": [
    "# Verificando o tipo de dados nas colunas\n",
    "treino.dtypes.value_counts()"
   ]
  },
  {
   "cell_type": "code",
   "execution_count": 5,
   "id": "cba63709",
   "metadata": {},
   "outputs": [
    {
     "data": {
      "text/plain": [
       "object     35\n",
       "int64      29\n",
       "float64    20\n",
       "Name: count, dtype: int64"
      ]
     },
     "execution_count": 5,
     "metadata": {},
     "output_type": "execute_result"
    }
   ],
   "source": [
    "# Verificando o tipo de dados nas colunas\n",
    "teste.dtypes.value_counts()"
   ]
  },
  {
   "cell_type": "code",
   "execution_count": 6,
   "id": "642149fd",
   "metadata": {},
   "outputs": [
    {
     "data": {
      "text/plain": [
       "Index(['Id', 'MSSubClass', 'LotFrontage', 'LotArea', 'OverallQual',\n",
       "       'OverallCond', 'YearBuilt', 'YearRemodAdd', 'MasVnrArea', 'BsmtFinSF1',\n",
       "       'BsmtFinSF2', 'BsmtUnfSF', 'TotalBsmtSF', 'CentralAir', '1stFlrSF',\n",
       "       '2ndFlrSF', 'LowQualFinSF', 'GrLivArea', 'BsmtFullBath', 'BsmtHalfBath',\n",
       "       'FullBath', 'HalfBath', 'BedroomAbvGr', 'KitchenAbvGr', 'TotRmsAbvGrd',\n",
       "       'Fireplaces', 'GarageFinish', 'GarageCars', 'GarageQual', 'PavedDrive',\n",
       "       'WoodDeckSF', 'OpenPorchSF', 'EnclosedPorch', '3SsnPorch',\n",
       "       'ScreenPorch', 'PoolArea', 'MiscVal', 'MoSold', 'YrSold',\n",
       "       'MSZoning_C (all)', 'MSZoning_FV', 'MSZoning_RH', 'MSZoning_RL',\n",
       "       'MSZoning_RM', 'GarageType_-1', 'GarageType_Attchd',\n",
       "       'GarageType_BuiltIn', 'GarageType_Detchd',\n",
       "       'GarageType_infrequent_sklearn'],\n",
       "      dtype='object')"
      ]
     },
     "execution_count": 6,
     "metadata": {},
     "output_type": "execute_result"
    }
   ],
   "source": [
    "# Selecionando apenas as colunas numéricas\n",
    "cols_nr = treino.columns[treino.dtypes != 'object']\n",
    "cols_nr[cols_nr != 'SalePrice']"
   ]
  },
  {
   "cell_type": "code",
   "execution_count": 7,
   "id": "1258693b",
   "metadata": {},
   "outputs": [
    {
     "data": {
      "text/plain": [
       "(1460, 50)"
      ]
     },
     "execution_count": 7,
     "metadata": {},
     "output_type": "execute_result"
    }
   ],
   "source": [
    "# Criando uma nova base com esses valores\n",
    "treino = treino.loc[:,cols_nr]\n",
    "treino.shape"
   ]
  },
  {
   "cell_type": "code",
   "execution_count": 8,
   "id": "58386078",
   "metadata": {},
   "outputs": [
    {
     "data": {
      "text/plain": [
       "(1459, 49)"
      ]
     },
     "execution_count": 8,
     "metadata": {},
     "output_type": "execute_result"
    }
   ],
   "source": [
    "# Mantendo também apenas as colunas numéricas para a base de teste\n",
    "teste = teste.loc[:,cols_nr[cols_nr != 'SalePrice']]\n",
    "teste.shape"
   ]
  },
  {
   "cell_type": "markdown",
   "id": "c26fc247",
   "metadata": {},
   "source": [
    "<a id='Arquivo3_2'></a>\n",
    "### Arquivo 3_2"
   ]
  },
  {
   "cell_type": "code",
   "execution_count": 35,
   "id": "26639e4a",
   "metadata": {},
   "outputs": [],
   "source": [
    "# Importando as bases\n",
    "treino = pd.read_csv('train3_2.csv')\n",
    "teste = pd.read_csv('test3_2.csv')"
   ]
  },
  {
   "cell_type": "code",
   "execution_count": 36,
   "id": "e76bbd54",
   "metadata": {},
   "outputs": [
    {
     "data": {
      "text/plain": [
       "(1460, 146)"
      ]
     },
     "execution_count": 36,
     "metadata": {},
     "output_type": "execute_result"
    }
   ],
   "source": [
    "# Verificando o formato da base\n",
    "treino.shape"
   ]
  },
  {
   "cell_type": "code",
   "execution_count": 37,
   "id": "ac1a2f6c",
   "metadata": {},
   "outputs": [
    {
     "data": {
      "text/plain": [
       "(1459, 145)"
      ]
     },
     "execution_count": 37,
     "metadata": {},
     "output_type": "execute_result"
    }
   ],
   "source": [
    "# Verificando o formato da base\n",
    "teste.shape"
   ]
  },
  {
   "cell_type": "code",
   "execution_count": 38,
   "id": "113a3118",
   "metadata": {},
   "outputs": [
    {
     "data": {
      "text/plain": [
       "int64      133\n",
       "float64     13\n",
       "Name: count, dtype: int64"
      ]
     },
     "execution_count": 38,
     "metadata": {},
     "output_type": "execute_result"
    }
   ],
   "source": [
    "# Verificando o tipo de dados nas colunas\n",
    "treino.dtypes.value_counts()"
   ]
  },
  {
   "cell_type": "code",
   "execution_count": 40,
   "id": "00325602",
   "metadata": {},
   "outputs": [
    {
     "data": {
      "text/plain": [
       "int64      125\n",
       "float64     20\n",
       "Name: count, dtype: int64"
      ]
     },
     "execution_count": 40,
     "metadata": {},
     "output_type": "execute_result"
    }
   ],
   "source": [
    "# Verificando o tipo de dados nas colunas\n",
    "teste.dtypes.value_counts()"
   ]
  },
  {
   "cell_type": "markdown",
   "id": "80e7c8b2",
   "metadata": {},
   "source": [
    "<a id='Algoritmos'></a>\n",
    "## Algoritmos\n",
    "- Separando em treino e teste: \n",
    "    - https://scikit-learn.org/stable/modules/generated/sklearn.model_selection.train_test_split.html\n",
    "- Novos algoritmos:\n",
    "    - **Regressão Linear**:\n",
    "        - https://scikit-learn.org/stable/modules/generated/sklearn.linear_model.LinearRegression.html\n",
    "    - **RandomForestRegressor**:\n",
    "        - https://scikit-learn.org/stable/modules/generated/sklearn.ensemble.RandomForestRegressor.html#sklearn.ensemble.RandomForestRegressor\n",
    "    - **Lasso Regression**:\n",
    "        - https://scikit-learn.org/stable/modules/generated/sklearn.linear_model.Lasso.html\n",
    "    - **XGBoost**:\n",
    "        - https://xgboost.readthedocs.io/en/stable/index.html"
   ]
  },
  {
   "cell_type": "code",
   "execution_count": 41,
   "id": "2defc7e1",
   "metadata": {},
   "outputs": [],
   "source": [
    "# Selecionando X e y\n",
    "X = treino.drop('SalePrice',axis=1)\n",
    "y = treino.SalePrice"
   ]
  },
  {
   "cell_type": "code",
   "execution_count": 42,
   "id": "acd54393",
   "metadata": {},
   "outputs": [],
   "source": [
    "# Importando o train_test_split\n",
    "from sklearn.model_selection import train_test_split"
   ]
  },
  {
   "cell_type": "code",
   "execution_count": 43,
   "id": "d9d0449f",
   "metadata": {},
   "outputs": [],
   "source": [
    "# Separando essa base em treino e teste\n",
    "X_train, X_test, y_train, y_test = train_test_split(X, y, test_size=0.33, random_state=42)"
   ]
  },
  {
   "cell_type": "markdown",
   "id": "ef9a0c28",
   "metadata": {},
   "source": [
    "#### Regressão Linear"
   ]
  },
  {
   "cell_type": "code",
   "execution_count": 44,
   "id": "220c498f",
   "metadata": {},
   "outputs": [],
   "source": [
    "# Importando a regressão linear\n",
    "from sklearn.linear_model import LinearRegression"
   ]
  },
  {
   "cell_type": "code",
   "execution_count": 45,
   "id": "1b4d922a",
   "metadata": {},
   "outputs": [],
   "source": [
    "# Criando o regressor e fazendo o fit com os dados de treino\n",
    "reg_rl = LinearRegression().fit(X_train, y_train)"
   ]
  },
  {
   "cell_type": "code",
   "execution_count": 46,
   "id": "4bea7f74",
   "metadata": {},
   "outputs": [],
   "source": [
    "# Fazendo a previsão pros dados de teste\n",
    "y_pred_rl = reg_rl.predict(X_test)"
   ]
  },
  {
   "cell_type": "markdown",
   "id": "21a2e6f7",
   "metadata": {},
   "source": [
    "#### Random Forest Regressor"
   ]
  },
  {
   "cell_type": "code",
   "execution_count": 47,
   "id": "012f6c1f",
   "metadata": {},
   "outputs": [],
   "source": [
    "# Importando o Random Forest\n",
    "from sklearn.ensemble import RandomForestRegressor"
   ]
  },
  {
   "cell_type": "code",
   "execution_count": 48,
   "id": "de3ab442",
   "metadata": {},
   "outputs": [],
   "source": [
    "# Criando o regressor e fazendo o fit com os dados de treino\n",
    "reg_rf = RandomForestRegressor(random_state=42).fit(X_train, y_train)"
   ]
  },
  {
   "cell_type": "code",
   "execution_count": 49,
   "id": "abdba5fa",
   "metadata": {},
   "outputs": [],
   "source": [
    "# Fazendo a previsão\n",
    "y_pred_rf = reg_rf.predict(X_test)"
   ]
  },
  {
   "cell_type": "markdown",
   "id": "036f4179",
   "metadata": {},
   "source": [
    "####  Lasso Regression"
   ]
  },
  {
   "cell_type": "code",
   "execution_count": 50,
   "id": "609e5c22",
   "metadata": {},
   "outputs": [],
   "source": [
    "# Importando o Lasso Regression\n",
    "from sklearn import linear_model"
   ]
  },
  {
   "cell_type": "code",
   "execution_count": 54,
   "id": "6f29d122",
   "metadata": {},
   "outputs": [],
   "source": [
    "reg_lasso = linear_model.Lasso(random_state=42, max_iter=100000).fit(X_train, y_train)"
   ]
  },
  {
   "cell_type": "code",
   "execution_count": 55,
   "id": "06788f78",
   "metadata": {},
   "outputs": [],
   "source": [
    "y_pred_lasso = reg_lasso.predict(X_test)"
   ]
  },
  {
   "cell_type": "markdown",
   "id": "9dcc3ff8",
   "metadata": {},
   "source": [
    "#### XGBoost"
   ]
  },
  {
   "cell_type": "code",
   "execution_count": 56,
   "id": "e15140c1",
   "metadata": {},
   "outputs": [],
   "source": [
    "# Importando o XGBoost\n",
    "from xgboost import XGBRegressor"
   ]
  },
  {
   "cell_type": "code",
   "execution_count": 57,
   "id": "d198d290",
   "metadata": {},
   "outputs": [],
   "source": [
    "# Criando o regressor e fazendo o fit\n",
    "reg_xgb = XGBRegressor(random_state=42).fit(X_train, y_train)"
   ]
  },
  {
   "cell_type": "code",
   "execution_count": 58,
   "id": "8e6536d2",
   "metadata": {},
   "outputs": [],
   "source": [
    "# Fazendo a previsão\n",
    "y_pred_xgb = reg_xgb.predict(X_test)"
   ]
  },
  {
   "cell_type": "markdown",
   "id": "1ef2910c",
   "metadata": {},
   "source": [
    "## Avaliando os resultados\n",
    "- Erro médio absoluto:\n",
    "    - https://scikit-learn.org/stable/modules/generated/sklearn.metrics.mean_absolute_error.html\n",
    "- Erro quadrático médio:\n",
    "    - https://scikit-learn.org/stable/modules/generated/sklearn.metrics.mean_squared_error.html"
   ]
  },
  {
   "cell_type": "code",
   "execution_count": 59,
   "id": "7712299c",
   "metadata": {},
   "outputs": [],
   "source": [
    "# Importando o erro médio absoluto e o erro quadrático médio\n",
    "from sklearn.metrics import mean_absolute_error\n",
    "from sklearn.metrics import mean_squared_error"
   ]
  },
  {
   "cell_type": "code",
   "execution_count": 60,
   "id": "0a0b3a9c",
   "metadata": {},
   "outputs": [
    {
     "name": "stdout",
     "output_type": "stream",
     "text": [
      "Erro absoluto: 22157.115236188605\n",
      "Erro quadrático: 1539851963.9372888\n"
     ]
    }
   ],
   "source": [
    "# Erro regressão linear\n",
    "print(f'Erro absoluto: {mean_absolute_error(y_test, y_pred_rl)}')\n",
    "print(f'Erro quadrático: {mean_squared_error(y_test, y_pred_rl)}')"
   ]
  },
  {
   "cell_type": "code",
   "execution_count": 61,
   "id": "ade6db35",
   "metadata": {},
   "outputs": [
    {
     "name": "stdout",
     "output_type": "stream",
     "text": [
      "Erro absoluto: 17920.15010373444\n",
      "Erro quadrático: 993007681.3529487\n"
     ]
    }
   ],
   "source": [
    "# Erro Random Forest Regressor\n",
    "print(f'Erro absoluto: {mean_absolute_error(y_test, y_pred_rf)}')\n",
    "print(f'Erro quadrático: {mean_squared_error(y_test, y_pred_rf)}')"
   ]
  },
  {
   "cell_type": "code",
   "execution_count": 62,
   "id": "49a7e6e5",
   "metadata": {},
   "outputs": [
    {
     "name": "stdout",
     "output_type": "stream",
     "text": [
      "Erro absoluto: 22109.47397402566\n",
      "Erro quadrático: 1535561973.03385\n"
     ]
    }
   ],
   "source": [
    "# Erro Lasso Regression\n",
    "print(f'Erro absoluto: {mean_absolute_error(y_test, y_pred_lasso)}')\n",
    "print(f'Erro quadrático: {mean_squared_error(y_test, y_pred_lasso)}')"
   ]
  },
  {
   "cell_type": "code",
   "execution_count": 63,
   "id": "0da5de5b",
   "metadata": {},
   "outputs": [
    {
     "name": "stdout",
     "output_type": "stream",
     "text": [
      "Erro absoluto: 17415.3171842583\n",
      "Erro quadrático: 1118488708.6055784\n"
     ]
    }
   ],
   "source": [
    "# Erro XGBoost\n",
    "print(f'Erro absoluto: {mean_absolute_error(y_test, y_pred_xgb)}')\n",
    "print(f'Erro quadrático: {mean_squared_error(y_test, y_pred_xgb)}')"
   ]
  },
  {
   "cell_type": "markdown",
   "id": "26f01509",
   "metadata": {},
   "source": [
    "- **Visualizando graficamente**"
   ]
  },
  {
   "cell_type": "code",
   "execution_count": 64,
   "id": "5504bafd",
   "metadata": {},
   "outputs": [],
   "source": [
    "# Importando o matplotlib\n",
    "import matplotlib.pyplot as plt"
   ]
  },
  {
   "cell_type": "code",
   "execution_count": 65,
   "id": "88ad7e7b",
   "metadata": {
    "scrolled": true
   },
   "outputs": [
    {
     "data": {
      "image/png": "[encoded data removed]",
      "text/plain": [
       "<Figure size 1500x1000 with 4 Axes>"
      ]
     },
     "metadata": {},
     "output_type": "display_data"
    }
   ],
   "source": [
    "# Criando esse gráfico\n",
    "fig, ax = plt.subplots(ncols=2, nrows=2, figsize=(15,10))\n",
    "\n",
    "ax[0,0].scatter(y_test/100000, y_pred_rl/100000)\n",
    "ax[0,0].plot([0,8],[0,8],'--r')\n",
    "ax[0,0].set(xlim=(0, 8),ylim=(0, 8))\n",
    "ax[0,0].set_xlabel('y_test (x100.000)')\n",
    "ax[0,0].set_ylabel('y_pred (x100.000)')\n",
    "ax[0,0].set_title('Regressão Linear')\n",
    "\n",
    "ax[1,0].scatter(y_test/100000, y_pred_rf/100000)\n",
    "ax[1,0].plot([0,8],[0,8],'--r')\n",
    "ax[1,0].set(xlim=(0, 8),ylim=(0, 8))\n",
    "ax[1,0].set_xlabel('y_test (x100.000)')\n",
    "ax[1,0].set_ylabel('y_pred (x100.000)')\n",
    "ax[1,0].set_title('Random Forest Regressor')\n",
    "\n",
    "ax[0,1].scatter(y_test/100000, y_pred_lasso/100000)\n",
    "ax[0,1].plot([0,8],[0,8],'--r')\n",
    "ax[0,1].set(xlim=(0, 8),ylim=(0, 8))\n",
    "ax[0,1].set_xlabel('y_test (x100.000)')\n",
    "ax[0,1].set_ylabel('y_pred (x100.000)')\n",
    "ax[0,1].set_title('Lasso Regression')\n",
    "\n",
    "ax[1,1].scatter(y_test/100000, y_pred_xgb/100000)\n",
    "ax[1,1].plot([0,8],[0,8],'--r')\n",
    "ax[1,1].set(xlim=(0, 8),ylim=(0, 8))\n",
    "ax[1,1].set_xlabel('y_test (x100.000)')\n",
    "ax[1,1].set_ylabel('y_pred (x100.000)')\n",
    "ax[1,1].set_title('XGBoost')\n",
    "\n",
    "plt.show()"
   ]
  },
  {
   "cell_type": "markdown",
   "id": "bcc35a35",
   "metadata": {},
   "source": [
    "## Construindo Previsão\n",
    "- Utilizando o **Random Forest**"
   ]
  },
  {
   "cell_type": "code",
   "execution_count": 66,
   "id": "271ff9af",
   "metadata": {},
   "outputs": [],
   "source": [
    "# Fazer a previsão\n",
    "y_pred = reg_rf.predict(teste)"
   ]
  },
  {
   "cell_type": "code",
   "execution_count": 67,
   "id": "8268786a",
   "metadata": {},
   "outputs": [],
   "source": [
    "# Adicionando a coluna na base\n",
    "teste['SalePrice'] = y_pred"
   ]
  },
  {
   "cell_type": "code",
   "execution_count": 68,
   "id": "7bd0e1d2",
   "metadata": {},
   "outputs": [],
   "source": [
    "# Extraindo as colunas Id e SalePrice\n",
    "resultado = teste[['Id','SalePrice']]"
   ]
  },
  {
   "cell_type": "code",
   "execution_count": 70,
   "id": "a087ae9a",
   "metadata": {},
   "outputs": [],
   "source": [
    "# Exportando para um csv\n",
    "# resultado.to_csv('resultado4_1.csv', index=False)\n",
    "\n",
    "resultado.to_csv('resultado4_2.csv', index=False)"
   ]
  },
  {
   "cell_type": "markdown",
   "id": "910ec986",
   "metadata": {},
   "source": [
    "- **Resultado**\n",
    "<img src=\"pkgImagens/resultado4.png\" width=900>"
   ]
  },
  {
   "cell_type": "code",
   "execution_count": null,
   "id": "69b8f5ca",
   "metadata": {},
   "outputs": [],
   "source": []
  }
 ],
 "metadata": {
  "kernelspec": {
   "display_name": "Python 3 (ipykernel)",
   "language": "python",
   "name": "python3"
  },
  "language_info": {
   "codemirror_mode": {
    "name": "ipython",
    "version": 3
   },
   "file_extension": ".py",
   "mimetype": "text/x-python",
   "name": "python",
   "nbconvert_exporter": "python",
   "pygments_lexer": "ipython3",
   "version": "3.11.5"
  }
 },
 "nbformat": 4,
 "nbformat_minor": 5
}

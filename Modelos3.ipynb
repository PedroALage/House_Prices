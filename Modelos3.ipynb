{
 "cells": [
  {
   "cell_type": "markdown",
   "id": "4e4452d3",
   "metadata": {},
   "source": [
    "# House Prices - Advanced Regression Techniques\n",
    "\n",
    "- Utilizaando os [dados disponíveis no Kaggle](https://www.kaggle.com/competitions/house-prices-advanced-regression-techniques/overview)\n",
    "    - Dataset de competição\n",
    "    - A avaliação será através do erro quadrático médio"
   ]
  },
  {
   "cell_type": "markdown",
   "id": "c7463e73",
   "metadata": {},
   "source": [
    "## Modelos 3 - Utilizando os modelos iniciais\n",
    "- O objetivo é aplicar os mesmos algorítimos anteriores e comparar os resultados.\n",
    "\n",
    "- Tópicos:\n",
    "    - [Arquivo 3_1](#Arquivo3_1)\n",
    "    - [Arquivo 3_2](#Arquivo3_2)\n",
    "    - [Algoritmos](#Algoritmos)"
   ]
  },
  {
   "cell_type": "markdown",
   "id": "fc5c0abb",
   "metadata": {},
   "source": [
    "<a id='Arquivo3_1'></a>\n",
    "### Arquivo 3_1"
   ]
  },
  {
   "cell_type": "code",
   "execution_count": 29,
   "id": "83978be4",
   "metadata": {},
   "outputs": [],
   "source": [
    "# Importando o pandas\n",
    "import pandas as pd"
   ]
  },
  {
   "cell_type": "code",
   "execution_count": 41,
   "id": "3767eccb",
   "metadata": {},
   "outputs": [],
   "source": [
    "# Importando as bases\n",
    "treino = pd.read_csv('train3_1.csv')\n",
    "teste = pd.read_csv('test3_1.csv')"
   ]
  },
  {
   "cell_type": "code",
   "execution_count": 42,
   "id": "0553e650",
   "metadata": {},
   "outputs": [
    {
     "data": {
      "text/plain": [
       "(1460, 85)"
      ]
     },
     "execution_count": 42,
     "metadata": {},
     "output_type": "execute_result"
    }
   ],
   "source": [
    "# Verificando o formato da base\n",
    "treino.shape"
   ]
  },
  {
   "cell_type": "code",
   "execution_count": 43,
   "id": "7fb33cd0",
   "metadata": {},
   "outputs": [
    {
     "data": {
      "text/plain": [
       "(1459, 84)"
      ]
     },
     "execution_count": 43,
     "metadata": {},
     "output_type": "execute_result"
    }
   ],
   "source": [
    "# Verificando o formato da base\n",
    "teste.shape"
   ]
  },
  {
   "cell_type": "code",
   "execution_count": 44,
   "id": "1089b2d1",
   "metadata": {},
   "outputs": [
    {
     "data": {
      "text/plain": [
       "int64      37\n",
       "object     35\n",
       "float64    13\n",
       "Name: count, dtype: int64"
      ]
     },
     "execution_count": 44,
     "metadata": {},
     "output_type": "execute_result"
    }
   ],
   "source": [
    "# Verificando o tipo de dados nas colunas\n",
    "treino.dtypes.value_counts()"
   ]
  },
  {
   "cell_type": "code",
   "execution_count": 45,
   "id": "1c9f5b6f",
   "metadata": {},
   "outputs": [
    {
     "data": {
      "text/plain": [
       "object     35\n",
       "int64      29\n",
       "float64    20\n",
       "Name: count, dtype: int64"
      ]
     },
     "execution_count": 45,
     "metadata": {},
     "output_type": "execute_result"
    }
   ],
   "source": [
    "# Verificando o tipo de dados nas colunas\n",
    "teste.dtypes.value_counts()"
   ]
  },
  {
   "cell_type": "code",
   "execution_count": 46,
   "id": "4798ba0c",
   "metadata": {},
   "outputs": [
    {
     "data": {
      "text/plain": [
       "Index(['Id', 'MSSubClass', 'LotFrontage', 'LotArea', 'OverallQual',\n",
       "       'OverallCond', 'YearBuilt', 'YearRemodAdd', 'MasVnrArea', 'BsmtFinSF1',\n",
       "       'BsmtFinSF2', 'BsmtUnfSF', 'TotalBsmtSF', 'CentralAir', '1stFlrSF',\n",
       "       '2ndFlrSF', 'LowQualFinSF', 'GrLivArea', 'BsmtFullBath', 'BsmtHalfBath',\n",
       "       'FullBath', 'HalfBath', 'BedroomAbvGr', 'KitchenAbvGr', 'TotRmsAbvGrd',\n",
       "       'Fireplaces', 'GarageFinish', 'GarageCars', 'GarageQual', 'PavedDrive',\n",
       "       'WoodDeckSF', 'OpenPorchSF', 'EnclosedPorch', '3SsnPorch',\n",
       "       'ScreenPorch', 'PoolArea', 'MiscVal', 'MoSold', 'YrSold',\n",
       "       'MSZoning_C (all)', 'MSZoning_FV', 'MSZoning_RH', 'MSZoning_RL',\n",
       "       'MSZoning_RM', 'GarageType_-1', 'GarageType_Attchd',\n",
       "       'GarageType_BuiltIn', 'GarageType_Detchd',\n",
       "       'GarageType_infrequent_sklearn'],\n",
       "      dtype='object')"
      ]
     },
     "execution_count": 46,
     "metadata": {},
     "output_type": "execute_result"
    }
   ],
   "source": [
    "# Selecionando apenas as colunas numéricas\n",
    "cols_nr = treino.columns[treino.dtypes != 'object']\n",
    "cols_nr[cols_nr != 'SalePrice']"
   ]
  },
  {
   "cell_type": "code",
   "execution_count": 47,
   "id": "d4be280c",
   "metadata": {},
   "outputs": [
    {
     "data": {
      "text/plain": [
       "(1460, 50)"
      ]
     },
     "execution_count": 47,
     "metadata": {},
     "output_type": "execute_result"
    }
   ],
   "source": [
    "# Criando uma nova base com esses valores\n",
    "treino = treino.loc[:,cols_nr]\n",
    "treino.shape"
   ]
  },
  {
   "cell_type": "code",
   "execution_count": 48,
   "id": "e75ce99e",
   "metadata": {},
   "outputs": [
    {
     "data": {
      "text/plain": [
       "(1459, 49)"
      ]
     },
     "execution_count": 48,
     "metadata": {},
     "output_type": "execute_result"
    }
   ],
   "source": [
    "# Mantendo também apenas as colunas numéricas para a base de teste\n",
    "teste = teste.loc[:,cols_nr[cols_nr != 'SalePrice']]\n",
    "teste.shape"
   ]
  },
  {
   "cell_type": "markdown",
   "id": "0b55b0e1",
   "metadata": {},
   "source": [
    "<a id='Arquivo3_2'></a>\n",
    "### Arquivo 3_2"
   ]
  },
  {
   "cell_type": "code",
   "execution_count": 100,
   "id": "3646126f",
   "metadata": {},
   "outputs": [],
   "source": [
    "# Importando as bases\n",
    "treino = pd.read_csv('train3_2.csv')\n",
    "teste = pd.read_csv('test3_2.csv')"
   ]
  },
  {
   "cell_type": "code",
   "execution_count": 101,
   "id": "956e0fde",
   "metadata": {},
   "outputs": [
    {
     "data": {
      "text/plain": [
       "(1460, 146)"
      ]
     },
     "execution_count": 101,
     "metadata": {},
     "output_type": "execute_result"
    }
   ],
   "source": [
    "# Verificando o formato da base\n",
    "treino.shape"
   ]
  },
  {
   "cell_type": "code",
   "execution_count": 102,
   "id": "2664c743",
   "metadata": {},
   "outputs": [
    {
     "data": {
      "text/plain": [
       "(1459, 145)"
      ]
     },
     "execution_count": 102,
     "metadata": {},
     "output_type": "execute_result"
    }
   ],
   "source": [
    "# Verificando o formato da base\n",
    "teste.shape"
   ]
  },
  {
   "cell_type": "code",
   "execution_count": 103,
   "id": "46c3f71b",
   "metadata": {},
   "outputs": [
    {
     "data": {
      "text/plain": [
       "int64      133\n",
       "float64     13\n",
       "Name: count, dtype: int64"
      ]
     },
     "execution_count": 103,
     "metadata": {},
     "output_type": "execute_result"
    }
   ],
   "source": [
    "# Verificando o tipo de dados nas colunas\n",
    "treino.dtypes.value_counts()"
   ]
  },
  {
   "cell_type": "code",
   "execution_count": 104,
   "id": "8d2ebed4",
   "metadata": {},
   "outputs": [
    {
     "data": {
      "text/plain": [
       "int64      125\n",
       "float64     20\n",
       "Name: count, dtype: int64"
      ]
     },
     "execution_count": 104,
     "metadata": {},
     "output_type": "execute_result"
    }
   ],
   "source": [
    "# Verificando o tipo de dados nas colunas\n",
    "teste.dtypes.value_counts()"
   ]
  },
  {
   "cell_type": "markdown",
   "id": "cb7b242b",
   "metadata": {},
   "source": [
    "<a id='Algoritmos'></a>\n",
    "## Algoritmos\n",
    "- Separando em treino e teste: \n",
    "    - https://scikit-learn.org/stable/modules/generated/sklearn.model_selection.train_test_split.html\n",
    "- Algoritmos Utilizados\n",
    "    - **Regressão Linear**:\n",
    "        - https://scikit-learn.org/stable/modules/generated/sklearn.linear_model.LinearRegression.html\n",
    "    - **Árvore de Regressão**:\n",
    "        - https://scikit-learn.org/stable/modules/tree.html#regression\n",
    "    - **KNeighborsRegressor**:\n",
    "        - https://scikit-learn.org/stable/modules/generated/sklearn.neighbors.KNeighborsRegressor.html#sklearn.neighbors.KNeighborsRegressor"
   ]
  },
  {
   "cell_type": "code",
   "execution_count": 105,
   "id": "03d8450b",
   "metadata": {},
   "outputs": [],
   "source": [
    "# Selecionando X e y\n",
    "X = treino.drop('SalePrice',axis=1)\n",
    "y = treino.SalePrice"
   ]
  },
  {
   "cell_type": "code",
   "execution_count": 106,
   "id": "4666ae9d",
   "metadata": {},
   "outputs": [],
   "source": [
    "# Importando o train_test_split\n",
    "from sklearn.model_selection import train_test_split"
   ]
  },
  {
   "cell_type": "code",
   "execution_count": 107,
   "id": "a0625f12",
   "metadata": {},
   "outputs": [],
   "source": [
    "# Separando essa base em treino e teste\n",
    "X_train, X_test, y_train, y_test = train_test_split(X, y, test_size=0.33, random_state=42)"
   ]
  },
  {
   "cell_type": "markdown",
   "id": "9d345f1f",
   "metadata": {},
   "source": [
    "#### Regressão Linear"
   ]
  },
  {
   "cell_type": "code",
   "execution_count": 108,
   "id": "130d0a13",
   "metadata": {},
   "outputs": [],
   "source": [
    "# Importando a regressão linear\n",
    "from sklearn.linear_model import LinearRegression"
   ]
  },
  {
   "cell_type": "code",
   "execution_count": 109,
   "id": "0f2aa8e5",
   "metadata": {},
   "outputs": [],
   "source": [
    "# Criando o regressor e fazendo o fit com os dados de treino\n",
    "reg_rl = LinearRegression().fit(X_train, y_train)"
   ]
  },
  {
   "cell_type": "code",
   "execution_count": 110,
   "id": "4125116b",
   "metadata": {},
   "outputs": [],
   "source": [
    "# Fazendo a previsão pros dados de teste\n",
    "y_pred_rl = reg_rl.predict(X_test)"
   ]
  },
  {
   "cell_type": "markdown",
   "id": "879c6987",
   "metadata": {},
   "source": [
    "#### Árvore de Regressão"
   ]
  },
  {
   "cell_type": "code",
   "execution_count": 111,
   "id": "be630267",
   "metadata": {},
   "outputs": [],
   "source": [
    "# Importando a árvore de regressão\n",
    "from sklearn import tree"
   ]
  },
  {
   "cell_type": "code",
   "execution_count": 112,
   "id": "d092d65d",
   "metadata": {},
   "outputs": [],
   "source": [
    "# Criando o regressor e fazendo o fit com os dados de treino\n",
    "reg_ad = tree.DecisionTreeRegressor().fit(X_train, y_train)"
   ]
  },
  {
   "cell_type": "code",
   "execution_count": 113,
   "id": "2cd4ddce",
   "metadata": {},
   "outputs": [],
   "source": [
    "# Fazendo a previsão\n",
    "y_pred_ad = reg_ad.predict(X_test)"
   ]
  },
  {
   "cell_type": "markdown",
   "id": "f0dd8aba",
   "metadata": {},
   "source": [
    "#### KNeighborsRegressor"
   ]
  },
  {
   "cell_type": "code",
   "execution_count": 114,
   "id": "65b409c4",
   "metadata": {},
   "outputs": [],
   "source": [
    "# Importando o KNN\n",
    "from sklearn.neighbors import KNeighborsRegressor"
   ]
  },
  {
   "cell_type": "code",
   "execution_count": 115,
   "id": "5b6dc812",
   "metadata": {},
   "outputs": [],
   "source": [
    "# Criando o regressor e fazendo o fit com os dados de treino\n",
    "reg_knn = KNeighborsRegressor(n_neighbors=2).fit(X_train, y_train)"
   ]
  },
  {
   "cell_type": "code",
   "execution_count": 116,
   "id": "9653fe52",
   "metadata": {},
   "outputs": [],
   "source": [
    "# Fazendo a previsão\n",
    "y_pred_knn = reg_knn.predict(X_test)"
   ]
  },
  {
   "cell_type": "markdown",
   "id": "4964f51d",
   "metadata": {},
   "source": [
    "## Avaliando os resultados\n",
    "- Erro médio absoluto:\n",
    "    - https://scikit-learn.org/stable/modules/generated/sklearn.metrics.mean_absolute_error.html\n",
    "- Erro quadrático médio:\n",
    "    - https://scikit-learn.org/stable/modules/generated/sklearn.metrics.mean_squared_error.html"
   ]
  },
  {
   "cell_type": "code",
   "execution_count": 117,
   "id": "8bb1c2a5",
   "metadata": {},
   "outputs": [],
   "source": [
    "# Importando o erro médio absoluto e o erro quadrático médio\n",
    "from sklearn.metrics import mean_absolute_error\n",
    "from sklearn.metrics import mean_squared_error"
   ]
  },
  {
   "cell_type": "code",
   "execution_count": 118,
   "id": "ee9aeec9",
   "metadata": {},
   "outputs": [
    {
     "name": "stdout",
     "output_type": "stream",
     "text": [
      "Erro absoluto: 22157.115236188605\n",
      "Erro quadrático: 1539851963.9372888\n"
     ]
    }
   ],
   "source": [
    "# Erro regressão linear\n",
    "print(f'Erro absoluto: {mean_absolute_error(y_test, y_pred_rl)}')\n",
    "print(f'Erro quadrático: {mean_squared_error(y_test, y_pred_rl)}')"
   ]
  },
  {
   "cell_type": "code",
   "execution_count": 119,
   "id": "e755faf5",
   "metadata": {},
   "outputs": [
    {
     "name": "stdout",
     "output_type": "stream",
     "text": [
      "Erro absoluto: 28240.41701244813\n",
      "Erro quadrático: 2432913440.76556\n"
     ]
    }
   ],
   "source": [
    "# Erro árvore de decisão\n",
    "print(f'Erro absoluto: {mean_absolute_error(y_test, y_pred_ad)}')\n",
    "print(f'Erro quadrático: {mean_squared_error(y_test, y_pred_ad)}')"
   ]
  },
  {
   "cell_type": "code",
   "execution_count": 120,
   "id": "849bb033",
   "metadata": {},
   "outputs": [
    {
     "name": "stdout",
     "output_type": "stream",
     "text": [
      "Erro absoluto: 34685.060165975105\n",
      "Erro quadrático: 2884773859.4107885\n"
     ]
    }
   ],
   "source": [
    "# Erro knn\n",
    "print(f'Erro absoluto: {mean_absolute_error(y_test, y_pred_knn)}')\n",
    "print(f'Erro quadrático: {mean_squared_error(y_test, y_pred_knn)}')"
   ]
  },
  {
   "cell_type": "markdown",
   "id": "da82f8fb",
   "metadata": {},
   "source": [
    "- **Visualizando graficamente**"
   ]
  },
  {
   "cell_type": "code",
   "execution_count": 121,
   "id": "02bd1a28",
   "metadata": {},
   "outputs": [],
   "source": [
    "# Importando o matplotlib\n",
    "import matplotlib.pyplot as plt"
   ]
  },
  {
   "cell_type": "code",
   "execution_count": 122,
   "id": "5c377adf",
   "metadata": {},
   "outputs": [
    {
     "data": {
      "image/png": "[encoded data removed]",
      "text/plain": [
       "<Figure size 1500x500 with 3 Axes>"
      ]
     },
     "metadata": {},
     "output_type": "display_data"
    }
   ],
   "source": [
    "# Criando esse gráfico\n",
    "fig, ax = plt.subplots(ncols=3,figsize=(15,5))\n",
    "\n",
    "ax[0].scatter(y_test/100000, y_pred_rl/100000)\n",
    "ax[0].plot([0,8],[0,8],'--r')\n",
    "ax[0].set(xlim=(0, 8),ylim=(0, 8))\n",
    "ax[0].set_xlabel('y_test (x100.000)')\n",
    "ax[0].set_ylabel('y_pred (x100.000)')\n",
    "ax[0].set_title('Regressão Linear')\n",
    "\n",
    "ax[1].scatter(y_test/100000, y_pred_ad/100000)\n",
    "ax[1].plot([0,8],[0,8],'--r')\n",
    "ax[1].set(xlim=(0, 8),ylim=(0, 8))\n",
    "ax[1].set_xlabel('y_test (x100.000)')\n",
    "ax[1].set_ylabel('y_pred (x100.000)')\n",
    "ax[1].set_title('Árvore de Regressão')\n",
    "\n",
    "ax[2].scatter(y_test/100000, y_pred_knn/100000)\n",
    "ax[2].plot([0,8],[0,8],'--r')\n",
    "ax[2].set(xlim=(0, 8),ylim=(0, 8))\n",
    "ax[2].set_xlabel('y_test (x100.000)')\n",
    "ax[2].set_ylabel('y_pred (x100.000)')\n",
    "ax[2].set_title('KNN')\n",
    "\n",
    "plt.show()"
   ]
  },
  {
   "cell_type": "markdown",
   "id": "74383fff",
   "metadata": {},
   "source": [
    "## Construindo Previsão\n",
    "- Utilizando a **regressão linear**"
   ]
  },
  {
   "cell_type": "code",
   "execution_count": 123,
   "id": "124a6385",
   "metadata": {},
   "outputs": [],
   "source": [
    "# Fazer a previsão\n",
    "y_pred = reg_rl.predict(teste)"
   ]
  },
  {
   "cell_type": "code",
   "execution_count": 124,
   "id": "eb278312",
   "metadata": {},
   "outputs": [],
   "source": [
    "# Adicionando a coluna na base\n",
    "teste['SalePrice'] = y_pred"
   ]
  },
  {
   "cell_type": "code",
   "execution_count": 125,
   "id": "a0909390",
   "metadata": {},
   "outputs": [],
   "source": [
    "# Extraindo as colunas Id e SalePrice\n",
    "resultado = teste[['Id','SalePrice']]"
   ]
  },
  {
   "cell_type": "code",
   "execution_count": 126,
   "id": "9efa59ea",
   "metadata": {},
   "outputs": [],
   "source": [
    "# Exportando para um csv\n",
    "# resultado.to_csv('resultado3_1.csv', index=False)\n",
    "\n",
    "resultado.to_csv('resultado3_2.csv', index=False)"
   ]
  },
  {
   "cell_type": "markdown",
   "id": "f1b0604e",
   "metadata": {},
   "source": [
    "- **Resultado**\n",
    "<img src=\"pkgImagens/resultado3.png\" width=900>"
   ]
  },
  {
   "cell_type": "code",
   "execution_count": null,
   "id": "1a482ead",
   "metadata": {},
   "outputs": [],
   "source": []
  }
 ],
 "metadata": {
  "kernelspec": {
   "display_name": "Python 3 (ipykernel)",
   "language": "python",
   "name": "python3"
  },
  "language_info": {
   "codemirror_mode": {
    "name": "ipython",
    "version": 3
   },
   "file_extension": ".py",
   "mimetype": "text/x-python",
   "name": "python",
   "nbconvert_exporter": "python",
   "pygments_lexer": "ipython3",
   "version": "3.11.5"
  }
 },
 "nbformat": 4,
 "nbformat_minor": 5
}
